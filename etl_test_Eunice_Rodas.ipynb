{
  "nbformat": 4,
  "nbformat_minor": 0,
  "metadata": {
    "colab": {
      "name": "Applaudo-Test.ipynb",
      "provenance": []
    },
    "kernelspec": {
      "name": "python3",
      "display_name": "Python 3"
    },
    "language_info": {
      "name": "python"
    }
  },
  "cells": [
    {
      "cell_type": "markdown",
      "metadata": {
        "id": "x05_cTWcIf7A"
      },
      "source": [
        "#ETL Technical Challenge"
      ]
    },
    {
      "cell_type": "code",
      "metadata": {
        "id": "JrqW8mjBTtHu"
      },
      "source": [
        "import pandas as pd\n"
      ],
      "execution_count": 1,
      "outputs": []
    },
    {
      "cell_type": "markdown",
      "metadata": {
        "id": "6M3iZwx9INdq"
      },
      "source": [
        "###Task 1: Download the data and read the CSV file"
      ]
    },
    {
      "cell_type": "code",
      "metadata": {
        "colab": {
          "base_uri": "https://localhost:8080/",
          "height": 419
        },
        "id": "ZqreoEGCTY8m",
        "outputId": "a7975ea1-6736-475a-fd95-fa14494d9647"
      },
      "source": [
        "data_url = 'https://raw.githubusercontent.com/spunkjockey/sample-datasets/main/Datasets/Retail/OrderDetails/00.csv'\n",
        "data=pd.read_csv(data_url, encoding='latin1')\n",
        "data"
      ],
      "execution_count": 2,
      "outputs": [
        {
          "output_type": "execute_result",
          "data": {
            "text/html": [
              "<div>\n",
              "<style scoped>\n",
              "    .dataframe tbody tr th:only-of-type {\n",
              "        vertical-align: middle;\n",
              "    }\n",
              "\n",
              "    .dataframe tbody tr th {\n",
              "        vertical-align: top;\n",
              "    }\n",
              "\n",
              "    .dataframe thead th {\n",
              "        text-align: right;\n",
              "    }\n",
              "</style>\n",
              "<table border=\"1\" class=\"dataframe\">\n",
              "  <thead>\n",
              "    <tr style=\"text-align: right;\">\n",
              "      <th></th>\n",
              "      <th>ORDER_ID</th>\n",
              "      <th>USER_ID</th>\n",
              "      <th>ORDER_NUMBER</th>\n",
              "      <th>ORDER_DOW</th>\n",
              "      <th>ORDER_HOUR_OF_DAY</th>\n",
              "      <th>DAYS_SINCE_PRIOR_ORDER</th>\n",
              "      <th>ORDER_DETAIL</th>\n",
              "    </tr>\n",
              "  </thead>\n",
              "  <tbody>\n",
              "    <tr>\n",
              "      <th>0</th>\n",
              "      <td>1000867</td>\n",
              "      <td>198377</td>\n",
              "      <td>5</td>\n",
              "      <td>0</td>\n",
              "      <td>14</td>\n",
              "      <td>9.0</td>\n",
              "      <td>Triscuit Baked Whole Grain Wheat Rosemary &amp; Ol...</td>\n",
              "    </tr>\n",
              "    <tr>\n",
              "      <th>1</th>\n",
              "      <td>100258</td>\n",
              "      <td>156548</td>\n",
              "      <td>29</td>\n",
              "      <td>0</td>\n",
              "      <td>23</td>\n",
              "      <td>15.0</td>\n",
              "      <td>Stage 2 Spinach, Apple &amp; Kale|baby food formul...</td>\n",
              "    </tr>\n",
              "    <tr>\n",
              "      <th>2</th>\n",
              "      <td>1003556</td>\n",
              "      <td>4233</td>\n",
              "      <td>4</td>\n",
              "      <td>0</td>\n",
              "      <td>9</td>\n",
              "      <td>6.0</td>\n",
              "      <td>Gluten Free Rigatoni|dry pasta|13~Organic Red ...</td>\n",
              "    </tr>\n",
              "    <tr>\n",
              "      <th>3</th>\n",
              "      <td>1006312</td>\n",
              "      <td>7861</td>\n",
              "      <td>7</td>\n",
              "      <td>0</td>\n",
              "      <td>12</td>\n",
              "      <td>30.0</td>\n",
              "      <td>Condensed Cream of Mushroom Soup|soup broth bo...</td>\n",
              "    </tr>\n",
              "    <tr>\n",
              "      <th>4</th>\n",
              "      <td>1014295</td>\n",
              "      <td>144587</td>\n",
              "      <td>6</td>\n",
              "      <td>0</td>\n",
              "      <td>9</td>\n",
              "      <td>8.0</td>\n",
              "      <td>Pure Irish Butter|butter|12~Pure Cane Granulat...</td>\n",
              "    </tr>\n",
              "    <tr>\n",
              "      <th>...</th>\n",
              "      <td>...</td>\n",
              "      <td>...</td>\n",
              "      <td>...</td>\n",
              "      <td>...</td>\n",
              "      <td>...</td>\n",
              "      <td>...</td>\n",
              "      <td>...</td>\n",
              "    </tr>\n",
              "    <tr>\n",
              "      <th>27460</th>\n",
              "      <td>994536</td>\n",
              "      <td>138392</td>\n",
              "      <td>64</td>\n",
              "      <td>0</td>\n",
              "      <td>7</td>\n",
              "      <td>7.0</td>\n",
              "      <td>100% Whole Wheat Bread|bread|6~Organic Broccol...</td>\n",
              "    </tr>\n",
              "    <tr>\n",
              "      <th>27461</th>\n",
              "      <td>995322</td>\n",
              "      <td>151424</td>\n",
              "      <td>28</td>\n",
              "      <td>0</td>\n",
              "      <td>14</td>\n",
              "      <td>16.0</td>\n",
              "      <td>Banana|fresh fruits|7~Organic Avocado|fresh fr...</td>\n",
              "    </tr>\n",
              "    <tr>\n",
              "      <th>27462</th>\n",
              "      <td>995630</td>\n",
              "      <td>144400</td>\n",
              "      <td>11</td>\n",
              "      <td>0</td>\n",
              "      <td>10</td>\n",
              "      <td>7.0</td>\n",
              "      <td>Original Rotisserie Chicken|prepared meals|7</td>\n",
              "    </tr>\n",
              "    <tr>\n",
              "      <th>27463</th>\n",
              "      <td>996848</td>\n",
              "      <td>107747</td>\n",
              "      <td>62</td>\n",
              "      <td>0</td>\n",
              "      <td>14</td>\n",
              "      <td>3.0</td>\n",
              "      <td>Strawberries|fresh fruits|9~Organic Lactose Fr...</td>\n",
              "    </tr>\n",
              "    <tr>\n",
              "      <th>27464</th>\n",
              "      <td>999604</td>\n",
              "      <td>195396</td>\n",
              "      <td>4</td>\n",
              "      <td>0</td>\n",
              "      <td>9</td>\n",
              "      <td>30.0</td>\n",
              "      <td>Zero Calorie Cola|soft drinks|7~Chicken Tortil...</td>\n",
              "    </tr>\n",
              "  </tbody>\n",
              "</table>\n",
              "<p>27465 rows × 7 columns</p>\n",
              "</div>"
            ],
            "text/plain": [
              "       ORDER_ID  ...                                       ORDER_DETAIL\n",
              "0       1000867  ...  Triscuit Baked Whole Grain Wheat Rosemary & Ol...\n",
              "1        100258  ...  Stage 2 Spinach, Apple & Kale|baby food formul...\n",
              "2       1003556  ...  Gluten Free Rigatoni|dry pasta|13~Organic Red ...\n",
              "3       1006312  ...  Condensed Cream of Mushroom Soup|soup broth bo...\n",
              "4       1014295  ...  Pure Irish Butter|butter|12~Pure Cane Granulat...\n",
              "...         ...  ...                                                ...\n",
              "27460    994536  ...  100% Whole Wheat Bread|bread|6~Organic Broccol...\n",
              "27461    995322  ...  Banana|fresh fruits|7~Organic Avocado|fresh fr...\n",
              "27462    995630  ...       Original Rotisserie Chicken|prepared meals|7\n",
              "27463    996848  ...  Strawberries|fresh fruits|9~Organic Lactose Fr...\n",
              "27464    999604  ...  Zero Calorie Cola|soft drinks|7~Chicken Tortil...\n",
              "\n",
              "[27465 rows x 7 columns]"
            ]
          },
          "metadata": {},
          "execution_count": 2
        }
      ]
    },
    {
      "cell_type": "markdown",
      "metadata": {
        "id": "bltX1AvSIW8g"
      },
      "source": [
        "###Task 2: Examine the data"
      ]
    },
    {
      "cell_type": "code",
      "metadata": {
        "colab": {
          "base_uri": "https://localhost:8080/"
        },
        "id": "Mo7q4sbdcL-e",
        "outputId": "810da467-cd47-402d-d22b-dcd058893041"
      },
      "source": [
        "data.dtypes"
      ],
      "execution_count": 3,
      "outputs": [
        {
          "output_type": "execute_result",
          "data": {
            "text/plain": [
              "ORDER_ID                    int64\n",
              "USER_ID                     int64\n",
              "ORDER_NUMBER                int64\n",
              "ORDER_DOW                   int64\n",
              "ORDER_HOUR_OF_DAY           int64\n",
              "DAYS_SINCE_PRIOR_ORDER    float64\n",
              "ORDER_DETAIL               object\n",
              "dtype: object"
            ]
          },
          "metadata": {},
          "execution_count": 3
        }
      ]
    },
    {
      "cell_type": "code",
      "metadata": {
        "id": "QHry-NPawbFi"
      },
      "source": [
        "data['DAYS_SINCE_PRIOR_ORDER'] =  data['DAYS_SINCE_PRIOR_ORDER'].astype('int64')"
      ],
      "execution_count": 4,
      "outputs": []
    },
    {
      "cell_type": "markdown",
      "metadata": {
        "id": "K_EqVBPcIpLt"
      },
      "source": [
        "\n",
        "###Task 3: Parse the ORDER_DETAIL column"
      ]
    },
    {
      "cell_type": "code",
      "metadata": {
        "colab": {
          "base_uri": "https://localhost:8080/",
          "height": 69
        },
        "id": "kJ7W9GfqiDqK",
        "outputId": "3b79ac93-0b73-4d63-c41a-3e5ecf38412b"
      },
      "source": [
        "data['ORDER_DETAIL'][0]"
      ],
      "execution_count": 5,
      "outputs": [
        {
          "output_type": "execute_result",
          "data": {
            "application/vnd.google.colaboratory.intrinsic+json": {
              "type": "string"
            },
            "text/plain": [
              "'Triscuit Baked Whole Grain Wheat Rosemary & Olive Oil|crackers|8~Nutter Butter Cookies|cookies cakes|10~Chili With Beans|canned meals beans|6~Zingers Raspberry Cakes|cookies cakes|6~Ho Hos Cakes|cookies cakes|13~Small Curd Cottage Cheese|other creams cheeses|14~Original Corn Chips|chips pretzels|14~Original Citrus Sparkling Flavored Soda|soft drinks|13'"
            ]
          },
          "metadata": {},
          "execution_count": 5
        }
      ]
    },
    {
      "cell_type": "code",
      "metadata": {
        "colab": {
          "base_uri": "https://localhost:8080/"
        },
        "id": "lOhw5WuwtL1q",
        "outputId": "74d11aef-628a-4cc0-8afa-e48d53b795fe"
      },
      "source": [
        "data['ORDER_DETAIL'].str.split('~')"
      ],
      "execution_count": 6,
      "outputs": [
        {
          "output_type": "execute_result",
          "data": {
            "text/plain": [
              "0        [Triscuit Baked Whole Grain Wheat Rosemary & O...\n",
              "1        [Stage 2 Spinach, Apple & Kale|baby food formu...\n",
              "2        [Gluten Free Rigatoni|dry pasta|13, Organic Re...\n",
              "3        [Condensed Cream of Mushroom Soup|soup broth b...\n",
              "4        [Pure Irish Butter|butter|12, Pure Cane Granul...\n",
              "                               ...                        \n",
              "27460    [100% Whole Wheat Bread|bread|6, Organic Brocc...\n",
              "27461    [Banana|fresh fruits|7, Organic Avocado|fresh ...\n",
              "27462       [Original Rotisserie Chicken|prepared meals|7]\n",
              "27463    [Strawberries|fresh fruits|9, Organic Lactose ...\n",
              "27464    [Zero Calorie Cola|soft drinks|7, Chicken Tort...\n",
              "Name: ORDER_DETAIL, Length: 27465, dtype: object"
            ]
          },
          "metadata": {},
          "execution_count": 6
        }
      ]
    },
    {
      "cell_type": "code",
      "metadata": {
        "colab": {
          "base_uri": "https://localhost:8080/",
          "height": 419
        },
        "id": "bBf4DeWvsnED",
        "outputId": "ff6a55ae-3e80-488e-da35-a3c76c199ca2"
      },
      "source": [
        "data['ORDER_DETAIL'] = data['ORDER_DETAIL'].str.split('~')\n",
        "data = data.explode('ORDER_DETAIL')\n",
        "data"
      ],
      "execution_count": 7,
      "outputs": [
        {
          "output_type": "execute_result",
          "data": {
            "text/html": [
              "<div>\n",
              "<style scoped>\n",
              "    .dataframe tbody tr th:only-of-type {\n",
              "        vertical-align: middle;\n",
              "    }\n",
              "\n",
              "    .dataframe tbody tr th {\n",
              "        vertical-align: top;\n",
              "    }\n",
              "\n",
              "    .dataframe thead th {\n",
              "        text-align: right;\n",
              "    }\n",
              "</style>\n",
              "<table border=\"1\" class=\"dataframe\">\n",
              "  <thead>\n",
              "    <tr style=\"text-align: right;\">\n",
              "      <th></th>\n",
              "      <th>ORDER_ID</th>\n",
              "      <th>USER_ID</th>\n",
              "      <th>ORDER_NUMBER</th>\n",
              "      <th>ORDER_DOW</th>\n",
              "      <th>ORDER_HOUR_OF_DAY</th>\n",
              "      <th>DAYS_SINCE_PRIOR_ORDER</th>\n",
              "      <th>ORDER_DETAIL</th>\n",
              "    </tr>\n",
              "  </thead>\n",
              "  <tbody>\n",
              "    <tr>\n",
              "      <th>0</th>\n",
              "      <td>1000867</td>\n",
              "      <td>198377</td>\n",
              "      <td>5</td>\n",
              "      <td>0</td>\n",
              "      <td>14</td>\n",
              "      <td>9</td>\n",
              "      <td>Triscuit Baked Whole Grain Wheat Rosemary &amp; Ol...</td>\n",
              "    </tr>\n",
              "    <tr>\n",
              "      <th>0</th>\n",
              "      <td>1000867</td>\n",
              "      <td>198377</td>\n",
              "      <td>5</td>\n",
              "      <td>0</td>\n",
              "      <td>14</td>\n",
              "      <td>9</td>\n",
              "      <td>Nutter Butter Cookies|cookies cakes|10</td>\n",
              "    </tr>\n",
              "    <tr>\n",
              "      <th>0</th>\n",
              "      <td>1000867</td>\n",
              "      <td>198377</td>\n",
              "      <td>5</td>\n",
              "      <td>0</td>\n",
              "      <td>14</td>\n",
              "      <td>9</td>\n",
              "      <td>Chili With Beans|canned meals beans|6</td>\n",
              "    </tr>\n",
              "    <tr>\n",
              "      <th>0</th>\n",
              "      <td>1000867</td>\n",
              "      <td>198377</td>\n",
              "      <td>5</td>\n",
              "      <td>0</td>\n",
              "      <td>14</td>\n",
              "      <td>9</td>\n",
              "      <td>Zingers Raspberry Cakes|cookies cakes|6</td>\n",
              "    </tr>\n",
              "    <tr>\n",
              "      <th>0</th>\n",
              "      <td>1000867</td>\n",
              "      <td>198377</td>\n",
              "      <td>5</td>\n",
              "      <td>0</td>\n",
              "      <td>14</td>\n",
              "      <td>9</td>\n",
              "      <td>Ho Hos Cakes|cookies cakes|13</td>\n",
              "    </tr>\n",
              "    <tr>\n",
              "      <th>...</th>\n",
              "      <td>...</td>\n",
              "      <td>...</td>\n",
              "      <td>...</td>\n",
              "      <td>...</td>\n",
              "      <td>...</td>\n",
              "      <td>...</td>\n",
              "      <td>...</td>\n",
              "    </tr>\n",
              "    <tr>\n",
              "      <th>27463</th>\n",
              "      <td>996848</td>\n",
              "      <td>107747</td>\n",
              "      <td>62</td>\n",
              "      <td>0</td>\n",
              "      <td>14</td>\n",
              "      <td>3</td>\n",
              "      <td>Ice Cream Tahitian Vanilla|ice cream ice|10</td>\n",
              "    </tr>\n",
              "    <tr>\n",
              "      <th>27463</th>\n",
              "      <td>996848</td>\n",
              "      <td>107747</td>\n",
              "      <td>62</td>\n",
              "      <td>0</td>\n",
              "      <td>14</td>\n",
              "      <td>3</td>\n",
              "      <td>Organic Cheddar Bunnies|crackers|13</td>\n",
              "    </tr>\n",
              "    <tr>\n",
              "      <th>27463</th>\n",
              "      <td>996848</td>\n",
              "      <td>107747</td>\n",
              "      <td>62</td>\n",
              "      <td>0</td>\n",
              "      <td>14</td>\n",
              "      <td>3</td>\n",
              "      <td>Sparkling Water Grapefruit|water seltzer spark...</td>\n",
              "    </tr>\n",
              "    <tr>\n",
              "      <th>27464</th>\n",
              "      <td>999604</td>\n",
              "      <td>195396</td>\n",
              "      <td>4</td>\n",
              "      <td>0</td>\n",
              "      <td>9</td>\n",
              "      <td>30</td>\n",
              "      <td>Zero Calorie Cola|soft drinks|7</td>\n",
              "    </tr>\n",
              "    <tr>\n",
              "      <th>27464</th>\n",
              "      <td>999604</td>\n",
              "      <td>195396</td>\n",
              "      <td>4</td>\n",
              "      <td>0</td>\n",
              "      <td>9</td>\n",
              "      <td>30</td>\n",
              "      <td>Chicken Tortilla Soup|prepared soups salads|5</td>\n",
              "    </tr>\n",
              "  </tbody>\n",
              "</table>\n",
              "<p>324026 rows × 7 columns</p>\n",
              "</div>"
            ],
            "text/plain": [
              "       ORDER_ID  ...                                       ORDER_DETAIL\n",
              "0       1000867  ...  Triscuit Baked Whole Grain Wheat Rosemary & Ol...\n",
              "0       1000867  ...             Nutter Butter Cookies|cookies cakes|10\n",
              "0       1000867  ...              Chili With Beans|canned meals beans|6\n",
              "0       1000867  ...            Zingers Raspberry Cakes|cookies cakes|6\n",
              "0       1000867  ...                      Ho Hos Cakes|cookies cakes|13\n",
              "...         ...  ...                                                ...\n",
              "27463    996848  ...        Ice Cream Tahitian Vanilla|ice cream ice|10\n",
              "27463    996848  ...                Organic Cheddar Bunnies|crackers|13\n",
              "27463    996848  ...  Sparkling Water Grapefruit|water seltzer spark...\n",
              "27464    999604  ...                    Zero Calorie Cola|soft drinks|7\n",
              "27464    999604  ...      Chicken Tortilla Soup|prepared soups salads|5\n",
              "\n",
              "[324026 rows x 7 columns]"
            ]
          },
          "metadata": {},
          "execution_count": 7
        }
      ]
    },
    {
      "cell_type": "code",
      "metadata": {
        "colab": {
          "base_uri": "https://localhost:8080/",
          "height": 844
        },
        "id": "_oF52_f_c0kn",
        "outputId": "3be63f9a-1172-44d2-bf15-44c7c5eb4dff"
      },
      "source": [
        "\n",
        "data[['PROD','AISLE','SEQ_PROD']] =data['ORDER_DETAIL'].str.split('|',expand=True)\n",
        "data"
      ],
      "execution_count": 8,
      "outputs": [
        {
          "output_type": "execute_result",
          "data": {
            "text/html": [
              "<div>\n",
              "<style scoped>\n",
              "    .dataframe tbody tr th:only-of-type {\n",
              "        vertical-align: middle;\n",
              "    }\n",
              "\n",
              "    .dataframe tbody tr th {\n",
              "        vertical-align: top;\n",
              "    }\n",
              "\n",
              "    .dataframe thead th {\n",
              "        text-align: right;\n",
              "    }\n",
              "</style>\n",
              "<table border=\"1\" class=\"dataframe\">\n",
              "  <thead>\n",
              "    <tr style=\"text-align: right;\">\n",
              "      <th></th>\n",
              "      <th>ORDER_ID</th>\n",
              "      <th>USER_ID</th>\n",
              "      <th>ORDER_NUMBER</th>\n",
              "      <th>ORDER_DOW</th>\n",
              "      <th>ORDER_HOUR_OF_DAY</th>\n",
              "      <th>DAYS_SINCE_PRIOR_ORDER</th>\n",
              "      <th>ORDER_DETAIL</th>\n",
              "      <th>PROD</th>\n",
              "      <th>AISLE</th>\n",
              "      <th>SEQ_PROD</th>\n",
              "    </tr>\n",
              "  </thead>\n",
              "  <tbody>\n",
              "    <tr>\n",
              "      <th>0</th>\n",
              "      <td>1000867</td>\n",
              "      <td>198377</td>\n",
              "      <td>5</td>\n",
              "      <td>0</td>\n",
              "      <td>14</td>\n",
              "      <td>9</td>\n",
              "      <td>Triscuit Baked Whole Grain Wheat Rosemary &amp; Ol...</td>\n",
              "      <td>Triscuit Baked Whole Grain Wheat Rosemary &amp; Ol...</td>\n",
              "      <td>crackers</td>\n",
              "      <td>8</td>\n",
              "    </tr>\n",
              "    <tr>\n",
              "      <th>0</th>\n",
              "      <td>1000867</td>\n",
              "      <td>198377</td>\n",
              "      <td>5</td>\n",
              "      <td>0</td>\n",
              "      <td>14</td>\n",
              "      <td>9</td>\n",
              "      <td>Nutter Butter Cookies|cookies cakes|10</td>\n",
              "      <td>Nutter Butter Cookies</td>\n",
              "      <td>cookies cakes</td>\n",
              "      <td>10</td>\n",
              "    </tr>\n",
              "    <tr>\n",
              "      <th>0</th>\n",
              "      <td>1000867</td>\n",
              "      <td>198377</td>\n",
              "      <td>5</td>\n",
              "      <td>0</td>\n",
              "      <td>14</td>\n",
              "      <td>9</td>\n",
              "      <td>Chili With Beans|canned meals beans|6</td>\n",
              "      <td>Chili With Beans</td>\n",
              "      <td>canned meals beans</td>\n",
              "      <td>6</td>\n",
              "    </tr>\n",
              "    <tr>\n",
              "      <th>0</th>\n",
              "      <td>1000867</td>\n",
              "      <td>198377</td>\n",
              "      <td>5</td>\n",
              "      <td>0</td>\n",
              "      <td>14</td>\n",
              "      <td>9</td>\n",
              "      <td>Zingers Raspberry Cakes|cookies cakes|6</td>\n",
              "      <td>Zingers Raspberry Cakes</td>\n",
              "      <td>cookies cakes</td>\n",
              "      <td>6</td>\n",
              "    </tr>\n",
              "    <tr>\n",
              "      <th>0</th>\n",
              "      <td>1000867</td>\n",
              "      <td>198377</td>\n",
              "      <td>5</td>\n",
              "      <td>0</td>\n",
              "      <td>14</td>\n",
              "      <td>9</td>\n",
              "      <td>Ho Hos Cakes|cookies cakes|13</td>\n",
              "      <td>Ho Hos Cakes</td>\n",
              "      <td>cookies cakes</td>\n",
              "      <td>13</td>\n",
              "    </tr>\n",
              "    <tr>\n",
              "      <th>...</th>\n",
              "      <td>...</td>\n",
              "      <td>...</td>\n",
              "      <td>...</td>\n",
              "      <td>...</td>\n",
              "      <td>...</td>\n",
              "      <td>...</td>\n",
              "      <td>...</td>\n",
              "      <td>...</td>\n",
              "      <td>...</td>\n",
              "      <td>...</td>\n",
              "    </tr>\n",
              "    <tr>\n",
              "      <th>27463</th>\n",
              "      <td>996848</td>\n",
              "      <td>107747</td>\n",
              "      <td>62</td>\n",
              "      <td>0</td>\n",
              "      <td>14</td>\n",
              "      <td>3</td>\n",
              "      <td>Ice Cream Tahitian Vanilla|ice cream ice|10</td>\n",
              "      <td>Ice Cream Tahitian Vanilla</td>\n",
              "      <td>ice cream ice</td>\n",
              "      <td>10</td>\n",
              "    </tr>\n",
              "    <tr>\n",
              "      <th>27463</th>\n",
              "      <td>996848</td>\n",
              "      <td>107747</td>\n",
              "      <td>62</td>\n",
              "      <td>0</td>\n",
              "      <td>14</td>\n",
              "      <td>3</td>\n",
              "      <td>Organic Cheddar Bunnies|crackers|13</td>\n",
              "      <td>Organic Cheddar Bunnies</td>\n",
              "      <td>crackers</td>\n",
              "      <td>13</td>\n",
              "    </tr>\n",
              "    <tr>\n",
              "      <th>27463</th>\n",
              "      <td>996848</td>\n",
              "      <td>107747</td>\n",
              "      <td>62</td>\n",
              "      <td>0</td>\n",
              "      <td>14</td>\n",
              "      <td>3</td>\n",
              "      <td>Sparkling Water Grapefruit|water seltzer spark...</td>\n",
              "      <td>Sparkling Water Grapefruit</td>\n",
              "      <td>water seltzer sparkling water</td>\n",
              "      <td>7</td>\n",
              "    </tr>\n",
              "    <tr>\n",
              "      <th>27464</th>\n",
              "      <td>999604</td>\n",
              "      <td>195396</td>\n",
              "      <td>4</td>\n",
              "      <td>0</td>\n",
              "      <td>9</td>\n",
              "      <td>30</td>\n",
              "      <td>Zero Calorie Cola|soft drinks|7</td>\n",
              "      <td>Zero Calorie Cola</td>\n",
              "      <td>soft drinks</td>\n",
              "      <td>7</td>\n",
              "    </tr>\n",
              "    <tr>\n",
              "      <th>27464</th>\n",
              "      <td>999604</td>\n",
              "      <td>195396</td>\n",
              "      <td>4</td>\n",
              "      <td>0</td>\n",
              "      <td>9</td>\n",
              "      <td>30</td>\n",
              "      <td>Chicken Tortilla Soup|prepared soups salads|5</td>\n",
              "      <td>Chicken Tortilla Soup</td>\n",
              "      <td>prepared soups salads</td>\n",
              "      <td>5</td>\n",
              "    </tr>\n",
              "  </tbody>\n",
              "</table>\n",
              "<p>324026 rows × 10 columns</p>\n",
              "</div>"
            ],
            "text/plain": [
              "       ORDER_ID  USER_ID  ...                          AISLE  SEQ_PROD\n",
              "0       1000867   198377  ...                       crackers         8\n",
              "0       1000867   198377  ...                  cookies cakes        10\n",
              "0       1000867   198377  ...             canned meals beans         6\n",
              "0       1000867   198377  ...                  cookies cakes         6\n",
              "0       1000867   198377  ...                  cookies cakes        13\n",
              "...         ...      ...  ...                            ...       ...\n",
              "27463    996848   107747  ...                  ice cream ice        10\n",
              "27463    996848   107747  ...                       crackers        13\n",
              "27463    996848   107747  ...  water seltzer sparkling water         7\n",
              "27464    999604   195396  ...                    soft drinks         7\n",
              "27464    999604   195396  ...          prepared soups salads         5\n",
              "\n",
              "[324026 rows x 10 columns]"
            ]
          },
          "metadata": {},
          "execution_count": 8
        }
      ]
    },
    {
      "cell_type": "code",
      "metadata": {
        "id": "6-Q-N4DJ0TYd"
      },
      "source": [
        "data = data.drop(columns=['ORDER_DETAIL'])"
      ],
      "execution_count": 9,
      "outputs": []
    },
    {
      "cell_type": "markdown",
      "metadata": {
        "id": "r6vYnXCPIul8"
      },
      "source": [
        "### Task 4: Load the data to BigQuery"
      ]
    },
    {
      "cell_type": "code",
      "metadata": {
        "id": "sOS2GjMQuPTx"
      },
      "source": [
        "\n",
        "from google.colab import auth\n",
        "auth.authenticate_user()"
      ],
      "execution_count": 10,
      "outputs": []
    },
    {
      "cell_type": "code",
      "metadata": {
        "id": "DVSQxwHpuZTB"
      },
      "source": [
        "from google.cloud import bigquery\n",
        "project_id = 'tokyo-data-313702'\n",
        "client = bigquery.Client(project=project_id)"
      ],
      "execution_count": 11,
      "outputs": []
    },
    {
      "cell_type": "code",
      "metadata": {
        "colab": {
          "base_uri": "https://localhost:8080/"
        },
        "id": "f-Lwj2Bmx7kh",
        "outputId": "f7937659-ea63-4eff-d61d-a3c5a49593ea"
      },
      "source": [
        "table_id = 'applaudo.orders'\n",
        "job_config = bigquery.LoadJobConfig(schema=[\n",
        "    bigquery.SchemaField(\"ORDER_ID\", \"INT64\"),\n",
        "    bigquery.SchemaField(\"USER_ID\", \"INT64\"),\n",
        "    bigquery.SchemaField(\"ORDER_NUMBER\", \"INT64\"),\n",
        "    bigquery.SchemaField(\"ORDER_DOW\", \"INT64\"),\n",
        "    bigquery.SchemaField(\"ORDER_HOUR_OF_DAY\", \"INT64\"),\n",
        "    bigquery.SchemaField(\"DAYS_SINCE_PRIOR_ORDER\", \"FLOAT64\"),\n",
        "    bigquery.SchemaField(\"PROD\", \"STRING\"),\n",
        "    bigquery.SchemaField(\"AISLE\", \"STRING\"),\n",
        "    bigquery.SchemaField(\"SEQ_PROD\", \"STRING\"),\n",
        "])\n",
        "job = client.load_table_from_dataframe(\n",
        "    data, table_id, job_config=job_config\n",
        ")\n",
        "job.result()"
      ],
      "execution_count": 12,
      "outputs": [
        {
          "output_type": "execute_result",
          "data": {
            "text/plain": [
              "<google.cloud.bigquery.job.LoadJob at 0x7f8acb81ac90>"
            ]
          },
          "metadata": {},
          "execution_count": 12
        }
      ]
    },
    {
      "cell_type": "markdown",
      "metadata": {
        "id": "ZZrLq9mII5C3"
      },
      "source": [
        "###Task 5: Perform a count of rows"
      ]
    },
    {
      "cell_type": "code",
      "metadata": {
        "colab": {
          "base_uri": "https://localhost:8080/"
        },
        "id": "70w8jYGd0xQi",
        "outputId": "f58214ab-42bd-452c-f738-7969f8d7e442"
      },
      "source": [
        "sql = \"\"\"\n",
        "    SELECT COUNT(*)\n",
        "    FROM `{}.{}`\n",
        "    \n",
        "    \"\"\".format(project_id,table_id)\n",
        "result = pd.read_gbq(sql, project_id=project_id)\n",
        "print(\"Check: {}\".format(result))"
      ],
      "execution_count": 13,
      "outputs": [
        {
          "output_type": "stream",
          "name": "stdout",
          "text": [
            "Check:       f0_\n",
            "0  324026\n"
          ]
        }
      ]
    },
    {
      "cell_type": "markdown",
      "metadata": {
        "id": "xoHPjrnFI-vR"
      },
      "source": [
        "### Task 6: Analize"
      ]
    },
    {
      "cell_type": "markdown",
      "metadata": {
        "id": "65uzWHAuJR7l"
      },
      "source": [
        "The mix of aisles with more products vs products sold"
      ]
    },
    {
      "cell_type": "code",
      "metadata": {
        "colab": {
          "base_uri": "https://localhost:8080/"
        },
        "id": "DcUZXztjJSsc",
        "outputId": "4ff5b897-38af-4968-a70a-d1530f800b65"
      },
      "source": [
        "sql = \"\"\"\n",
        "WITH aisle_more_sold AS(\n",
        "SELECT \n",
        "AISLE,\n",
        "COUNT(ORDER_ID) Orders_Sold\n",
        "FROM  `tokyo-data-313702.applaudo.orders` \n",
        "GROUP BY  AISLE\n",
        "ORDER BY COUNT(ORDER_ID)  DESC\n",
        "LIMIT 10\n",
        "),\n",
        "aisle_more_products AS(\n",
        "SELECT \n",
        "AISLE,\n",
        "COUNT(DISTINCT(PROD)) Products\n",
        "FROM  `tokyo-data-313702.applaudo.orders` \n",
        "GROUP BY  AISLE\n",
        "ORDER BY count(DISTINCT(PROD)) DESC\n",
        "LIMIT 10\n",
        ")\n",
        "\n",
        "SELECT \n",
        "aisle_more_products.AISLE,\n",
        "Products,\n",
        "Orders_Sold \n",
        "FROM aisle_more_products \n",
        "JOIN aisle_more_sold \n",
        "ON aisle_more_products.AISLE = aisle_more_sold.AISLE\n",
        "\"\"\"\n",
        "result = pd.read_gbq(sql, project_id=project_id)\n",
        "print(result)"
      ],
      "execution_count": 14,
      "outputs": [
        {
          "output_type": "stream",
          "name": "stdout",
          "text": [
            "                        AISLE  Products  Orders_Sold\n",
            "0                      yogurt       710        13398\n",
            "1              chips pretzels       601         6521\n",
            "2             packaged cheese       599         9953\n",
            "3  packaged vegetables fruits       455        20244\n",
            "4            fresh vegetables       442        39998\n"
          ]
        }
      ]
    },
    {
      "cell_type": "markdown",
      "metadata": {
        "id": "h5ofHvu5JCC9"
      },
      "source": [
        "The days of the week with the highest number of orders processed"
      ]
    },
    {
      "cell_type": "code",
      "metadata": {
        "colab": {
          "base_uri": "https://localhost:8080/"
        },
        "id": "FuYJlNIE1o45",
        "outputId": "56360238-4ee6-47ab-af2a-de23ab40ecea"
      },
      "source": [
        "sql = \"\"\"\n",
        "SELECT \n",
        "CASE \n",
        "    WHEN ORDER_DOW = 0 THEN 'Sunday'\n",
        "    WHEN ORDER_DOW = 1 THEN 'Monday'\n",
        "    WHEN ORDER_DOW = 2 THEN 'Tuesday'\n",
        "    WHEN ORDER_DOW = 3 THEN 'Wednesday'\n",
        "    WHEN ORDER_DOW = 4 THEN 'Thursday'\n",
        "    WHEN ORDER_DOW = 5 THEN 'Friday'\n",
        "    WHEN ORDER_DOW = 6 THEN 'Saturday'\n",
        "  END Weekday,\n",
        "COUNT(DISTINCT(ORDER_ID)) AS Orders\n",
        "FROM  `tokyo-data-313702.applaudo.orders` \n",
        "GROUP BY ORDER_DOW \n",
        "ORDER BY COUNT(DISTINCT(ORDER_ID)) DESC\n",
        "LIMIT 1;\"\"\"\n",
        "result = pd.read_gbq(sql, project_id=project_id)\n",
        "print(result)"
      ],
      "execution_count": 15,
      "outputs": [
        {
          "output_type": "stream",
          "name": "stdout",
          "text": [
            "  Weekday  Orders\n",
            "0  Sunday   27465\n"
          ]
        }
      ]
    },
    {
      "cell_type": "markdown",
      "metadata": {
        "id": "J835w6gZJV02"
      },
      "source": [
        "View the number of orders per day and hour"
      ]
    },
    {
      "cell_type": "code",
      "metadata": {
        "colab": {
          "base_uri": "https://localhost:8080/"
        },
        "id": "Ac6-0S8_LgK-",
        "outputId": "932661d6-2012-4d34-d05f-504e063cff78"
      },
      "source": [
        "sql = \"\"\"\n",
        "SELECT \n",
        "CASE \n",
        "    WHEN ORDER_DOW = 0 THEN 'Sunday'\n",
        "    WHEN ORDER_DOW = 1 THEN 'Monday'\n",
        "    WHEN ORDER_DOW = 2 THEN 'Tuesday'\n",
        "    WHEN ORDER_DOW = 3 THEN 'Wednesday'\n",
        "    WHEN ORDER_DOW = 4 THEN 'Thursday'\n",
        "    WHEN ORDER_DOW = 5 THEN 'Friday'\n",
        "    WHEN ORDER_DOW = 6 THEN 'Saturday'\n",
        "  END Weekday,\n",
        "  ORDER_HOUR_OF_DAY Hour,\n",
        "COUNT(DISTINCT(ORDER_ID)) AS Orders\n",
        "FROM  `tokyo-data-313702.applaudo.orders` \n",
        "GROUP BY ORDER_DOW , ORDER_HOUR_OF_DAY\n",
        "\n",
        "\"\"\"\n",
        "result = pd.read_gbq(sql, project_id=project_id)\n",
        "print(result)"
      ],
      "execution_count": 16,
      "outputs": [
        {
          "output_type": "stream",
          "name": "stdout",
          "text": [
            "   Weekday  Hour  Orders\n",
            "0   Sunday     0     148\n",
            "1   Sunday     1     101\n",
            "2   Sunday     2      77\n",
            "3   Sunday     3      45\n",
            "4   Sunday     4      32\n",
            "5   Sunday     5      66\n",
            "6   Sunday     6     116\n",
            "7   Sunday     7     567\n",
            "8   Sunday     8    1222\n",
            "9   Sunday     9    1774\n",
            "10  Sunday    10    2245\n",
            "11  Sunday    11    2354\n",
            "12  Sunday    12    2415\n",
            "13  Sunday    13    2417\n",
            "14  Sunday    14    2593\n",
            "15  Sunday    15    2518\n",
            "16  Sunday    16    2243\n",
            "17  Sunday    17    1800\n",
            "18  Sunday    18    1408\n",
            "19  Sunday    19    1042\n",
            "20  Sunday    20     811\n",
            "21  Sunday    21     650\n",
            "22  Sunday    22     505\n",
            "23  Sunday    23     315\n",
            "24  Sunday    24       1\n"
          ]
        }
      ]
    }
  ]
}